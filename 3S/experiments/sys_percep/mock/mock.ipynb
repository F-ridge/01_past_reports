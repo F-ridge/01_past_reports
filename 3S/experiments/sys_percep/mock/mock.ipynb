{
 "cells": [
  {
   "cell_type": "markdown",
   "metadata": {},
   "source": [
    "# 知覚の測定と解析 実験計画書\n",
    "佐藤 瞭\n",
    "## 目的\n",
    "- 視覚情報が数知覚に与える影響を調べる．(具体的にどのような視覚情報を変数とするかは決め兼ねている．)\n",
    "- たとえば，ポップアウト効果が個数のカウントに及ぼす影響を調べることで，精度よくモノを数えられるような視覚をもたらす作業環境を提案する．\n",
    "    - 数える対象の形・大きさ\n",
    "    - 背景の色・模様\n",
    "    - 数える対象を2種類の図形にして(アルファベットのOとQ，黄色い図形と黒い図形など)数を偏らせる(ポップアウト効果が数知覚に与える影響)\n",
    "        - http://cog.inf.kyushu-u.ac.jp/~shidoji/japanese/user_interface/2.pdf, p.11.\n",
    "        - https://www.jstage.jst.go.jp/article/safety/52/2/52_75/_pdf, p.79.\n",
    "\n",
    "## タスク: 個数のカウント\n",
    "- 手段\n",
    "    - 筆者の実装経験のあるJupyter Notebook + ipywidgets をインターフェースとする．(下にモックアップをのせてある．)\n",
    "    - ボタンを押すかEnterキーを押すなどして記録を追加していき，実験終了時にcsvなどの形式で保存する．\n",
    "- 手順\n",
    "    1. 2次元平面上にいくつかの図形(点，正方形など)をランダムにプロットして被験者に見せる．\n",
    "    2. 被験者に図形の個数を予測して入力してもらう．\n",
    "    3. プロットのパターンの数だけ1,2を繰り返し，パターンの実行順序と予測個数を被験者ごとに記録する．\n",
    "- プロットのパターンは実験開始前に固定しておく(図としてまとめて保存しておくか，乱数シードを固定して毎回同じ順序で図を生成してプログラム上の変数として持っておく)\n",
    "    - 図形がかぶって見えないようにある程度図形同士は離して描画する\n",
    "- それまでにみたプロットの，図形の数でカウントの結果が変わるようなので( https://core.ac.uk/download/pdf/71799134.pdf )，プロットのパターンの順番を前から行う被験者と後ろから逆順に行う被験者に分ける．\n",
    "- 調べることと変数の候補(どれか１〜2項目に絞る（？）)\n",
    "    - 知覚に使える時間と予測精度の関係→図を見せる時間 (0.5s, 1.0s, 1.5s, 2.0s, 2.5s, 3.0s？？)\n",
    "    - ポップアウト効果の影響→単一図形 VS 2種類の図形\n",
    "        - 2種類の図形の数の偏りを変えてみる\n",
    "    - どれくらいの数なら予測精度が落ちないか(精度が「十分高い」と定義するためにしきい値を決める．10個〜30個の1個刻み？)\n",
    "    - 色と予測精度の関係→図形の色\n",
    "    - 図形の大きさ\n",
    "※時間と図形の数，時間と図形の大きさ，といった組み合わせで調べることも考えられる．\n",
    "\n",
    "## 仮説\n",
    "- ポップアウト効果があると精度は落ちるのではないか（色や形の情報に注意を奪われるため）\n",
    "    - （ポップアウト効果がカウントに影響を与えると仮定して）図形が大きいとその影響は大きくなる．（単純に図形たちの占める面積が増えるため．）\n",
    "- 図を見せる時間と，予測精度が落ちない個数の上限には正の相関がある.\n"
   ]
  },
  {
   "cell_type": "code",
   "execution_count": null,
   "metadata": {},
   "outputs": [],
   "source": []
  },
  {
   "cell_type": "code",
   "execution_count": 2,
   "metadata": {},
   "outputs": [
    {
     "data": {
      "image/png": "[encoded data removed]",
      "text/plain": [
       "<Figure size 576x288 with 1 Axes>"
      ]
     },
     "metadata": {
      "needs_background": "light"
     },
     "output_type": "display_data"
    }
   ],
   "source": [
    "import numpy as np\n",
    "import matplotlib.pyplot as plt\n",
    "import ipywidgets as widgets\n",
    "from IPython.display import display \n",
    "np.random.seed(20190509)\n",
    "n = 13\n",
    "x = np.random.rand(n)\n",
    "y = np.random.rand(n)\n",
    "plt.figure(figsize=(8, 4))\n",
    "plt.scatter(x,y)\n",
    "plt.axis('off')\n",
    "plt.show()"
   ]
  },
  {
   "cell_type": "code",
   "execution_count": 3,
   "metadata": {},
   "outputs": [
    {
     "data": {
      "application/vnd.jupyter.widget-view+json": {
       "model_id": "609ed8bbdc74408cba0a39dae7a4e606",
       "version_major": 2,
       "version_minor": 0
      },
      "text/plain": [
       "IntText(value=0, description='個数を入力してください:')"
      ]
     },
     "metadata": {},
     "output_type": "display_data"
    }
   ],
   "source": [
    "input_count = widgets.IntText(\n",
    "    value=0,\n",
    "    description='個数を入力してください:',\n",
    "    disabled=False\n",
    ")\n",
    "display(input_count)"
   ]
  },
  {
   "cell_type": "code",
   "execution_count": 4,
   "metadata": {},
   "outputs": [
    {
     "data": {
      "application/vnd.jupyter.widget-view+json": {
       "model_id": "a24141829a6e4322bf18960eec4aa6db",
       "version_major": 2,
       "version_minor": 0
      },
      "text/plain": [
       "IntSlider(value=15, continuous_update=False, description='個数を入力してください:', max=25, min=5)"
      ]
     },
     "metadata": {},
     "output_type": "display_data"
    }
   ],
   "source": [
    "slider_count = widgets.IntSlider(\n",
    "    value=15,\n",
    "    min=5,\n",
    "    max=25,\n",
    "    step=1,\n",
    "    description='個数を入力してください:',\n",
    "    disabled=False,\n",
    "    continuous_update=False,\n",
    "    orientation='horizontal',\n",
    "    readout=True,\n",
    "    readout_format='d'\n",
    ")\n",
    "display(slider_count)"
   ]
  },
  {
   "cell_type": "markdown",
   "metadata": {},
   "source": [
    "↑のように，数値の直接入力やスライダーでの入力ができる．前者の直接入力のほうがよいだろうか…？"
   ]
  }
 ],
 "metadata": {
  "kernelspec": {
   "display_name": "Python 3",
   "language": "python",
   "name": "python3"
  },
  "language_info": {
   "codemirror_mode": {
    "name": "ipython",
    "version": 3
   },
   "file_extension": ".py",
   "mimetype": "text/x-python",
   "name": "python",
   "nbconvert_exporter": "python",
   "pygments_lexer": "ipython3",
   "version": "3.7.2"
  }
 },
 "nbformat": 4,
 "nbformat_minor": 2
}
