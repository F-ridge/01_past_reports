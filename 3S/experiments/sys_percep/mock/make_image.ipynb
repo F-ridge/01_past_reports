{
 "cells": [
  {
   "cell_type": "code",
   "execution_count": 3,
   "metadata": {},
   "outputs": [],
   "source": [
    "import os\n",
    "import numpy as np\n",
    "import pandas as pd\n",
    "from itertools import product\n",
    "import matplotlib.pyplot as plt"
   ]
  },
  {
   "cell_type": "code",
   "execution_count": 4,
   "metadata": {},
   "outputs": [],
   "source": [
    "def create_image_info(part, dataset_id):\n",
    "    params = {\n",
    "        '1': {'n_min': 2, 'n_max': 20, 'size': 100, 'time': [0.25, 0.5, 0.75, 1.0]},\n",
    "        '2': {'n_min': 20, 'n_max': 500, 'size': 150, 'time': [0.5]}}\n",
    "    starts = {\n",
    "        '1': {'A': 0, 'B': 100},\n",
    "        '2': {'A': 200, 'B': 350}}\n",
    "    size = params[part]['size']\n",
    "    n_min = params[part]['n_min']\n",
    "    n_max = params[part]['n_max']\n",
    "    time = params[part]['time']\n",
    "    id_start = starts[part][dataset_id]\n",
    "    image_info = pd.DataFrame({\n",
    "        'image_id': [str(i).zfill(3) for i in range(id_start, id_start+size)],\n",
    "        'num': [np.random.randint(n_min, n_max+1) for _ in range(id_start, id_start+size)],\n",
    "        'time': [np.random.choice(time) for _ in range(id_start, id_start+size)]})\n",
    "    image_info.to_csv(\n",
    "        f'datasets/image_info/{part}_{dataset_id}.csv', index=False)\n",
    "    return image_info"
   ]
  },
  {
   "cell_type": "code",
   "execution_count": 5,
   "metadata": {},
   "outputs": [],
   "source": [
    "def create_image(part, dataset_id, image_id, num):\n",
    "    x = np.random.rand(num)\n",
    "    y = np.random.rand(num)\n",
    "    fig = plt.figure(frameon = False)\n",
    "    fig.set_size_inches(8, 8)\n",
    "    plt.axis('off')\n",
    "    plt.xlim(0, 1)\n",
    "    plt.ylim(0, 1)\n",
    "    plt.plot(\n",
    "        x, y, markeredgecolor='black', markerfacecolor='black', \n",
    "        marker='o', markersize=10, linestyle='')\n",
    "    plt.savefig(\n",
    "        f'datasets/image/{part}/{dataset_id}/{image_id}.png', bbox_inches='tight', pad_inches=0)\n",
    "    plt.close()"
   ]
  },
  {
   "cell_type": "code",
   "execution_count": 6,
   "metadata": {},
   "outputs": [],
   "source": [
    "def make_datasets():\n",
    "    np.random.seed(114514)\n",
    "    for part, dataset_id in product(('1', '2'), ('A', 'B')):\n",
    "        os.makedirs(f'datasets/image/{part}/{dataset_id}', exist_ok=True)\n",
    "        os.makedirs('datasets/image_info', exist_ok=True)\n",
    "        image_info = create_image_info(part, dataset_id)\n",
    "        for _, row in image_info.iterrows():\n",
    "            image_id = str(int(row.image_id)).zfill(3)\n",
    "            num = row.num\n",
    "            create_image(part, dataset_id, image_id, num)"
   ]
  },
  {
   "cell_type": "code",
   "execution_count": 7,
   "metadata": {},
   "outputs": [],
   "source": [
    "make_datasets()"
   ]
  },
  {
   "cell_type": "code",
   "execution_count": 2,
   "metadata": {},
   "outputs": [
    {
     "name": "stdout",
     "output_type": "stream",
     "text": [
      "No, 0\n",
      "No, 1\n",
      "No, 2\n",
      "No, 3\n",
      "No, 4\n",
      "No, 5\n",
      "No, 6\n",
      "No, 7\n",
      "No, 8\n",
      "No, 9\n"
     ]
    }
   ],
   "source": [
    "import time\n",
    "\n",
    "for i in range(10):\n",
    "    print(f'\\rNo, {i}')\n",
    "    time.sleep(0.5)"
   ]
  },
  {
   "cell_type": "code",
   "execution_count": null,
   "metadata": {},
   "outputs": [],
   "source": []
  }
 ],
 "metadata": {
  "kernelspec": {
   "display_name": "Python 3",
   "language": "python",
   "name": "python3"
  },
  "language_info": {
   "codemirror_mode": {
    "name": "ipython",
    "version": 3
   },
   "file_extension": ".py",
   "mimetype": "text/x-python",
   "name": "python",
   "nbconvert_exporter": "python",
   "pygments_lexer": "ipython3",
   "version": "3.7.2"
  }
 },
 "nbformat": 4,
 "nbformat_minor": 2
}
