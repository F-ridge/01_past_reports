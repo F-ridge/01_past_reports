{
 "cells": [
  {
   "cell_type": "code",
   "execution_count": 1,
   "metadata": {},
   "outputs": [],
   "source": [
    "with open('data/pi.txt', 'r') as p:\n",
    "    data = p.read()[2:]"
   ]
  },
  {
   "cell_type": "code",
   "execution_count": 2,
   "metadata": {},
   "outputs": [
    {
     "name": "stdout",
     "output_type": "stream",
     "text": [
      "0 10 22\n",
      "1 50 110\n",
      "2 100 220\n",
      "3 300 660\n",
      "4 500 1100\n",
      "5 1000 2200\n",
      "6 2000 4400\n",
      "7 3000 6600\n",
      "8 4000 8800\n",
      "9 5000 11000\n",
      "10 6000 13200\n",
      "11 7000 15400\n",
      "12 8000 17600\n",
      "13 9000 19800\n",
      "14 10000 22000\n",
      "15 20000 44000\n",
      "16 30000 66000\n",
      "17 40000 88000\n",
      "18 50000 110000\n",
      "19 75000 165000\n"
     ]
    }
   ],
   "source": [
    "for i, n in enumerate([\n",
    "        10, 50, 100, 300, 500,\n",
    "        1000, 2000, 3000, 4000, 5000,\n",
    "        6000, 7000, 8000, 9000, 10000,\n",
    "        20000, 30000, 40000, 50000, 75000]):\n",
    "    print(i, n, int(n*2.2))\n",
    "    with open(f'data/in{str(i).zfill(2)}.txt', 'w') as d:\n",
    "        d.write(f'{data[:n]}\\n{data[n:int(n*2.2)]}\\n')"
   ]
  },
  {
   "cell_type": "code",
   "execution_count": null,
   "metadata": {},
   "outputs": [],
   "source": []
  }
 ],
 "metadata": {
  "kernelspec": {
   "display_name": "Python 3",
   "language": "python",
   "name": "python3"
  },
  "language_info": {
   "codemirror_mode": {
    "name": "ipython",
    "version": 3
   },
   "file_extension": ".py",
   "mimetype": "text/x-python",
   "name": "python",
   "nbconvert_exporter": "python",
   "pygments_lexer": "ipython3",
   "version": "3.7.2"
  }
 },
 "nbformat": 4,
 "nbformat_minor": 2
}
